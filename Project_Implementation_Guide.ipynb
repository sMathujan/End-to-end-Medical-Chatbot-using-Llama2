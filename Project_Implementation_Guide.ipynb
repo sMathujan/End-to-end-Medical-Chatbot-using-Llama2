{
 "cells": [
  {
   "cell_type": "markdown",
   "metadata": {},
   "source": [
    "1. Create the GitHub repo for the project.\n",
    "2. Clone the project GitHub repo into working space.\n",
    "3. Create a conda environment.\n",
    "4. Create and install the requirements.txt file.\n",
    "5. R&D with notebook experiment."
   ]
  }
 ],
 "metadata": {
  "language_info": {
   "name": "python"
  }
 },
 "nbformat": 4,
 "nbformat_minor": 2
}
